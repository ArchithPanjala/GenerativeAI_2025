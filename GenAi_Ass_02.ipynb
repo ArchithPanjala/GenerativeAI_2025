{
  "nbformat": 4,
  "nbformat_minor": 0,
  "metadata": {
    "colab": {
      "provenance": [],
      "authorship_tag": "ABX9TyMTBuz6VJEBr6qoWeLgRUB3",
      "include_colab_link": true
    },
    "kernelspec": {
      "name": "python3",
      "display_name": "Python 3"
    },
    "language_info": {
      "name": "python"
    }
  },
  "cells": [
    {
      "cell_type": "markdown",
      "metadata": {
        "id": "view-in-github",
        "colab_type": "text"
      },
      "source": [
        "<a href=\"https://colab.research.google.com/github/ArchithPanjala/GenerativeAI_2025/blob/main/GenAi_Ass_02.ipynb\" target=\"_parent\"><img src=\"https://colab.research.google.com/assets/colab-badge.svg\" alt=\"Open In Colab\"/></a>"
      ]
    },
    {
      "cell_type": "code",
      "execution_count": 1,
      "metadata": {
        "colab": {
          "base_uri": "https://localhost:8080/"
        },
        "id": "irYXAkITPwCi",
        "outputId": "80a181fc-8b47-4fc9-850d-8615d56ad6d7"
      },
      "outputs": [
        {
          "output_type": "stream",
          "name": "stdout",
          "text": [
            "Optimal solution found:\n",
            "Number of units of A: 2\n",
            "Number of units of B: 3\n",
            "Maximum profit: 27\n"
          ]
        }
      ],
      "source": [
        "import numpy as np\n",
        "from scipy.optimize import linprog\n",
        "c = [-6, -5]\n",
        "A = [[1, 1], [3, 2]]\n",
        "b = [5, 12]\n",
        "x_bounds = (0, None)\n",
        "y_bounds = (0, None)\n",
        "result = linprog(c, A_ub=A, b_ub=b, bounds=[x_bounds, y_bounds])\n",
        "if result.success:\n",
        "  print(\"Optimal solution found:\")\n",
        "  print(\"Number of units of A:\", round(result.x[0]))\n",
        "  print(\"Number of units of B:\", round(result.x[1]))\n",
        "  print(\"Maximum profit:\", -round(result.fun))\n",
        "else:\n",
        "  print(\"Optimization failed:\", result.message)\n",
        ""
      ]
    },
    {
      "cell_type": "code",
      "source": [
        "import numpy as np\n",
        "from scipy.optimize import linprog\n",
        "c = [-120, -100]\n",
        "A = [[2000, 3000],\n",
        "     [30, 20]]\n",
        "b = [700000, 1200]\n",
        "x_bounds = (0, None)\n",
        "y_bounds = (0, None)\n",
        "A.append([1,1])\n",
        "b.append(110)\n",
        "result = linprog(c, A_ub=A, b_ub=b, bounds=[x_bounds, y_bounds])\n",
        "if result.success:\n",
        "  print(\"Optimal solution found:\")\n",
        "  print(\"Number of hectares of Wheat:\", round(result.x[0]))\n",
        "  print(\"Number of hectares of Barley:\", round(result.x[1]))\n",
        "  print(\"Maximum profit:\", -round(result.fun))\n",
        "else:\n",
        "  print(\"Optimization failed:\", result.message)"
      ],
      "metadata": {
        "colab": {
          "base_uri": "https://localhost:8080/"
        },
        "id": "hewJCwy6Q-IQ",
        "outputId": "76b6e604-eaa9-4d26-e9cd-afd71f8b7c95"
      },
      "execution_count": 2,
      "outputs": [
        {
          "output_type": "stream",
          "name": "stdout",
          "text": [
            "Optimal solution found:\n",
            "Number of hectares of Wheat: 0\n",
            "Number of hectares of Barley: 60\n",
            "Maximum profit: 6000\n"
          ]
        }
      ]
    },
    {
      "cell_type": "code",
      "source": [],
      "metadata": {
        "id": "JGlCnnovRDRx"
      },
      "execution_count": null,
      "outputs": []
    }
  ]
}